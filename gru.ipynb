{
 "cells": [
  {
   "cell_type": "code",
   "execution_count": 7,
   "id": "5de7e2a4-6c64-4eda-9f5f-85e0d6638323",
   "metadata": {},
   "outputs": [],
   "source": [
    "import torch\n",
    "import pandas as pd\n",
    "from sklearn.model_selection import train_test_split\n",
    "from sklearn.metrics import mean_squared_error\n",
    "import numpy as np"
   ]
  },
  {
   "cell_type": "code",
   "execution_count": 5,
   "id": "e508f3af-9c32-4132-a30d-44639ff2c8fd",
   "metadata": {},
   "outputs": [
    {
     "name": "stdout",
     "output_type": "stream",
     "text": [
      "Using device: cuda\n"
     ]
    }
   ],
   "source": [
    "device = torch.device(\"cuda\" if torch.cuda.is_available() else \"cpu\")\n",
    "print(f\"Using device: {device}\")"
   ]
  },
  {
   "cell_type": "code",
   "execution_count": 11,
   "id": "f6cb6eab-1c7f-4883-a154-812eeadacf63",
   "metadata": {},
   "outputs": [
    {
     "data": {
      "text/html": [
       "<div>\n",
       "<style scoped>\n",
       "    .dataframe tbody tr th:only-of-type {\n",
       "        vertical-align: middle;\n",
       "    }\n",
       "\n",
       "    .dataframe tbody tr th {\n",
       "        vertical-align: top;\n",
       "    }\n",
       "\n",
       "    .dataframe thead th {\n",
       "        text-align: right;\n",
       "    }\n",
       "</style>\n",
       "<table border=\"1\" class=\"dataframe\">\n",
       "  <thead>\n",
       "    <tr style=\"text-align: right;\">\n",
       "      <th></th>\n",
       "      <th>Unnamed: 0</th>\n",
       "      <th>Date</th>\n",
       "      <th>Adj Close</th>\n",
       "      <th>Close</th>\n",
       "      <th>High</th>\n",
       "      <th>Low</th>\n",
       "      <th>Open</th>\n",
       "      <th>Volume</th>\n",
       "      <th>name</th>\n",
       "      <th>percent_movement</th>\n",
       "    </tr>\n",
       "  </thead>\n",
       "  <tbody>\n",
       "    <tr>\n",
       "      <th>0</th>\n",
       "      <td>0</td>\n",
       "      <td>1999-11-18</td>\n",
       "      <td>26.511736</td>\n",
       "      <td>31.473534</td>\n",
       "      <td>35.765381</td>\n",
       "      <td>28.612303</td>\n",
       "      <td>32.546494</td>\n",
       "      <td>62546380.0</td>\n",
       "      <td>A</td>\n",
       "      <td>3.409086</td>\n",
       "    </tr>\n",
       "    <tr>\n",
       "      <th>1</th>\n",
       "      <td>1</td>\n",
       "      <td>1999-11-19</td>\n",
       "      <td>24.327528</td>\n",
       "      <td>28.880545</td>\n",
       "      <td>30.758226</td>\n",
       "      <td>28.478184</td>\n",
       "      <td>30.713518</td>\n",
       "      <td>15234146.0</td>\n",
       "      <td>A</td>\n",
       "      <td>6.346741</td>\n",
       "    </tr>\n",
       "    <tr>\n",
       "      <th>2</th>\n",
       "      <td>2</td>\n",
       "      <td>1999-11-22</td>\n",
       "      <td>26.511736</td>\n",
       "      <td>31.473534</td>\n",
       "      <td>31.473534</td>\n",
       "      <td>28.657009</td>\n",
       "      <td>29.551144</td>\n",
       "      <td>6577870.0</td>\n",
       "      <td>A</td>\n",
       "      <td>-6.107957</td>\n",
       "    </tr>\n",
       "    <tr>\n",
       "      <th>3</th>\n",
       "      <td>3</td>\n",
       "      <td>1999-11-23</td>\n",
       "      <td>24.101582</td>\n",
       "      <td>28.612303</td>\n",
       "      <td>31.205294</td>\n",
       "      <td>28.612303</td>\n",
       "      <td>30.400572</td>\n",
       "      <td>5975611.0</td>\n",
       "      <td>A</td>\n",
       "      <td>6.250000</td>\n",
       "    </tr>\n",
       "    <tr>\n",
       "      <th>4</th>\n",
       "      <td>4</td>\n",
       "      <td>1999-11-24</td>\n",
       "      <td>24.741781</td>\n",
       "      <td>29.372318</td>\n",
       "      <td>29.998213</td>\n",
       "      <td>28.612303</td>\n",
       "      <td>28.701717</td>\n",
       "      <td>4843231.0</td>\n",
       "      <td>A</td>\n",
       "      <td>-2.283105</td>\n",
       "    </tr>\n",
       "  </tbody>\n",
       "</table>\n",
       "</div>"
      ],
      "text/plain": [
       "   Unnamed: 0        Date  Adj Close      Close       High        Low  \\\n",
       "0           0  1999-11-18  26.511736  31.473534  35.765381  28.612303   \n",
       "1           1  1999-11-19  24.327528  28.880545  30.758226  28.478184   \n",
       "2           2  1999-11-22  26.511736  31.473534  31.473534  28.657009   \n",
       "3           3  1999-11-23  24.101582  28.612303  31.205294  28.612303   \n",
       "4           4  1999-11-24  24.741781  29.372318  29.998213  28.612303   \n",
       "\n",
       "        Open      Volume name  percent_movement  \n",
       "0  32.546494  62546380.0    A          3.409086  \n",
       "1  30.713518  15234146.0    A          6.346741  \n",
       "2  29.551144   6577870.0    A         -6.107957  \n",
       "3  30.400572   5975611.0    A          6.250000  \n",
       "4  28.701717   4843231.0    A         -2.283105  "
      ]
     },
     "execution_count": 11,
     "metadata": {},
     "output_type": "execute_result"
    }
   ],
   "source": [
    "df = pd.read_csv('clean_data.csv')\n",
    "df.head()"
   ]
  },
  {
   "cell_type": "code",
   "execution_count": null,
   "id": "f2a5edba-6ecd-4f15-8f40-a31519f33c60",
   "metadata": {},
   "outputs": [],
   "source": [
    "groups = df.groupby('name')"
   ]
  },
  {
   "cell_type": "code",
   "execution_count": null,
   "id": "37250568-1d2a-4807-a582-d7174c907f40",
   "metadata": {},
   "outputs": [],
   "source": []
  }
 ],
 "metadata": {
  "kernelspec": {
   "display_name": "Python [conda env:base] *",
   "language": "python",
   "name": "conda-base-py"
  },
  "language_info": {
   "codemirror_mode": {
    "name": "ipython",
    "version": 3
   },
   "file_extension": ".py",
   "mimetype": "text/x-python",
   "name": "python",
   "nbconvert_exporter": "python",
   "pygments_lexer": "ipython3",
   "version": "3.12.7"
  }
 },
 "nbformat": 4,
 "nbformat_minor": 5
}
