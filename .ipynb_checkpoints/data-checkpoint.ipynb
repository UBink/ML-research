{
 "cells": [
  {
   "cell_type": "code",
   "execution_count": 47,
   "id": "a09d8343-3c94-4140-9f80-7b600ee1025b",
   "metadata": {},
   "outputs": [],
   "source": [
    "import pandas as pd\n",
    "import matplotlib as plt\n",
    "import os\n",
    "from glob import glob"
   ]
  },
  {
   "cell_type": "code",
   "execution_count": 49,
   "id": "17025293-89b4-4790-be59-d185c415d1df",
   "metadata": {
    "scrolled": true
   },
   "outputs": [
    {
     "name": "stdout",
     "output_type": "stream",
     "text": [
      "         Date  Adj Close      Close       High        Low       Open  \\\n",
      "0  1999-11-18  26.511736  31.473534  35.765381  28.612303  32.546494   \n",
      "1  1999-11-19  24.327528  28.880545  30.758226  28.478184  30.713518   \n",
      "2  1999-11-22  26.511736  31.473534  31.473534  28.657009  29.551144   \n",
      "3  1999-11-23  24.101582  28.612303  31.205294  28.612303  30.400572   \n",
      "4  1999-11-24  24.741781  29.372318  29.998213  28.612303  28.701717   \n",
      "\n",
      "       Volume name  \n",
      "0  62546380.0    A  \n",
      "1  15234146.0    A  \n",
      "2   6577870.0    A  \n",
      "3   5975611.0    A  \n",
      "4   4843231.0    A  \n"
     ]
    },
    {
     "name": "stderr",
     "output_type": "stream",
     "text": [
      "C:\\Users\\utkub\\AppData\\Local\\Temp\\ipykernel_19780\\1606929036.py:22: FutureWarning: The behavior of DataFrame concatenation with empty or all-NA entries is deprecated. In a future version, this will no longer exclude empty or all-NA columns when determining the result dtypes. To retain the old behavior, exclude the relevant entries before the concat operation.\n",
      "  combined_df = pd.concat(dfs, ignore_index=True)\n"
     ]
    }
   ],
   "source": [
    "\n",
    "# Path to the folder containing the CSV files\n",
    "data_folder = 'data'\n",
    "\n",
    "# Get all CSV files inside the data folder\n",
    "csv_files = glob(os.path.join(data_folder, '*.csv'))\n",
    "\n",
    "# List to hold each stock's DataFrame\n",
    "dfs = []\n",
    "\n",
    "for file in csv_files:\n",
    "    # Extract stock name from filename\n",
    "    stock_name = os.path.splitext(os.path.basename(file))[0]\n",
    "    \n",
    "    # Load CSV and add 'name' column\n",
    "    df = pd.read_csv(file)\n",
    "    df['name'] = stock_name\n",
    "    \n",
    "    # Append to list\n",
    "    dfs.append(df)\n",
    "\n",
    "# Combine all into one DataFrame\n",
    "combined_df = pd.concat(dfs, ignore_index=True)\n",
    "\n",
    "# Optional: check result\n",
    "print(combined_df.head())\n"
   ]
  },
  {
   "cell_type": "code",
   "execution_count": 50,
   "id": "ffaccf11-f9b1-4748-93d4-853682e7a31d",
   "metadata": {
    "scrolled": true
   },
   "outputs": [
    {
     "data": {
      "text/html": [
       "<div>\n",
       "<style scoped>\n",
       "    .dataframe tbody tr th:only-of-type {\n",
       "        vertical-align: middle;\n",
       "    }\n",
       "\n",
       "    .dataframe tbody tr th {\n",
       "        vertical-align: top;\n",
       "    }\n",
       "\n",
       "    .dataframe thead th {\n",
       "        text-align: right;\n",
       "    }\n",
       "</style>\n",
       "<table border=\"1\" class=\"dataframe\">\n",
       "  <thead>\n",
       "    <tr style=\"text-align: right;\">\n",
       "      <th></th>\n",
       "      <th>Date</th>\n",
       "      <th>Adj Close</th>\n",
       "      <th>Close</th>\n",
       "      <th>High</th>\n",
       "      <th>Low</th>\n",
       "      <th>Open</th>\n",
       "      <th>Volume</th>\n",
       "      <th>name</th>\n",
       "      <th>percent_movement</th>\n",
       "    </tr>\n",
       "  </thead>\n",
       "  <tbody>\n",
       "    <tr>\n",
       "      <th>0</th>\n",
       "      <td>1999-11-18</td>\n",
       "      <td>26.511736</td>\n",
       "      <td>31.473534</td>\n",
       "      <td>35.765381</td>\n",
       "      <td>28.612303</td>\n",
       "      <td>32.546494</td>\n",
       "      <td>62546380.0</td>\n",
       "      <td>A</td>\n",
       "      <td>3.409086</td>\n",
       "    </tr>\n",
       "    <tr>\n",
       "      <th>1</th>\n",
       "      <td>1999-11-19</td>\n",
       "      <td>24.327528</td>\n",
       "      <td>28.880545</td>\n",
       "      <td>30.758226</td>\n",
       "      <td>28.478184</td>\n",
       "      <td>30.713518</td>\n",
       "      <td>15234146.0</td>\n",
       "      <td>A</td>\n",
       "      <td>6.346741</td>\n",
       "    </tr>\n",
       "    <tr>\n",
       "      <th>2</th>\n",
       "      <td>1999-11-22</td>\n",
       "      <td>26.511736</td>\n",
       "      <td>31.473534</td>\n",
       "      <td>31.473534</td>\n",
       "      <td>28.657009</td>\n",
       "      <td>29.551144</td>\n",
       "      <td>6577870.0</td>\n",
       "      <td>A</td>\n",
       "      <td>-6.107957</td>\n",
       "    </tr>\n",
       "    <tr>\n",
       "      <th>3</th>\n",
       "      <td>1999-11-23</td>\n",
       "      <td>24.101582</td>\n",
       "      <td>28.612303</td>\n",
       "      <td>31.205294</td>\n",
       "      <td>28.612303</td>\n",
       "      <td>30.400572</td>\n",
       "      <td>5975611.0</td>\n",
       "      <td>A</td>\n",
       "      <td>6.250000</td>\n",
       "    </tr>\n",
       "    <tr>\n",
       "      <th>4</th>\n",
       "      <td>1999-11-24</td>\n",
       "      <td>24.741781</td>\n",
       "      <td>29.372318</td>\n",
       "      <td>29.998213</td>\n",
       "      <td>28.612303</td>\n",
       "      <td>28.701717</td>\n",
       "      <td>4843231.0</td>\n",
       "      <td>A</td>\n",
       "      <td>-2.283105</td>\n",
       "    </tr>\n",
       "  </tbody>\n",
       "</table>\n",
       "</div>"
      ],
      "text/plain": [
       "         Date  Adj Close      Close       High        Low       Open  \\\n",
       "0  1999-11-18  26.511736  31.473534  35.765381  28.612303  32.546494   \n",
       "1  1999-11-19  24.327528  28.880545  30.758226  28.478184  30.713518   \n",
       "2  1999-11-22  26.511736  31.473534  31.473534  28.657009  29.551144   \n",
       "3  1999-11-23  24.101582  28.612303  31.205294  28.612303  30.400572   \n",
       "4  1999-11-24  24.741781  29.372318  29.998213  28.612303  28.701717   \n",
       "\n",
       "       Volume name  percent_movement  \n",
       "0  62546380.0    A          3.409086  \n",
       "1  15234146.0    A          6.346741  \n",
       "2   6577870.0    A         -6.107957  \n",
       "3   5975611.0    A          6.250000  \n",
       "4   4843231.0    A         -2.283105  "
      ]
     },
     "execution_count": 50,
     "metadata": {},
     "output_type": "execute_result"
    }
   ],
   "source": [
    "combined_df['percent_movement'] = (combined_df['Open'] - combined_df['Close']) / combined_df['Close'] * 100\n",
    "combined_df.head()"
   ]
  },
  {
   "cell_type": "code",
   "execution_count": 58,
   "id": "0ee16d8a-7c67-4e86-beb7-283de9297969",
   "metadata": {},
   "outputs": [],
   "source": [
    "combined_df.to_csv('clean_data.csv')"
   ]
  },
  {
   "cell_type": "code",
   "execution_count": null,
   "id": "44e50d06-ba48-483a-95c6-dfefbbf58955",
   "metadata": {},
   "outputs": [],
   "source": []
  }
 ],
 "metadata": {
  "kernelspec": {
   "display_name": "Python [conda env:base] *",
   "language": "python",
   "name": "conda-base-py"
  },
  "language_info": {
   "codemirror_mode": {
    "name": "ipython",
    "version": 3
   },
   "file_extension": ".py",
   "mimetype": "text/x-python",
   "name": "python",
   "nbconvert_exporter": "python",
   "pygments_lexer": "ipython3",
   "version": "3.12.7"
  }
 },
 "nbformat": 4,
 "nbformat_minor": 5
}
